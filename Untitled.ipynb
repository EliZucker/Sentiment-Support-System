***REMOVED***
 "cells": [
  ***REMOVED***
   "cell_type": "code",
   "execution_count": 7,
   "metadata": ***REMOVED******REMOVED***,
   "outputs": [
    ***REMOVED***
     "name": "stdout",
     "output_type": "stream",
     "text": [
      "Requirement already up-to-date: pip in /Library/Frameworks/Python.framework/Versions/3.7/lib/python3.7/site-packages (19.3.1)\n",
      "Requirement already up-to-date: firebase-admin in /Library/Frameworks/Python.framework/Versions/3.7/lib/python3.7/site-packages (3.1.0)\n",
      "Requirement already satisfied, skipping upgrade: google-api-python-client>=1.7.8 in /Library/Frameworks/Python.framework/Versions/3.7/lib/python3.7/site-packages (from firebase-admin) (1.7.11)\n",
      "Requirement already satisfied, skipping upgrade: six>=1.6.1 in /Users/ntung/Library/Python/3.7/lib/python/site-packages (from firebase-admin) (1.12.0)\n",
      "Requirement already satisfied, skipping upgrade: cachecontrol>=0.12.4 in /Library/Frameworks/Python.framework/Versions/3.7/lib/python3.7/site-packages (from firebase-admin) (0.12.5)\n",
      "Requirement already satisfied, skipping upgrade: google-cloud-storage>=1.18.0 in /Library/Frameworks/Python.framework/Versions/3.7/lib/python3.7/site-packages (from firebase-admin) (1.20.0)\n",
      "Requirement already satisfied, skipping upgrade: google-api-core[grpc]<2.0.0dev,>=1.14.0; platform_python_implementation != \"PyPy\" in /Library/Frameworks/Python.framework/Versions/3.7/lib/python3.7/site-packages (from firebase-admin) (1.14.3)\n",
      "Requirement already satisfied, skipping upgrade: google-cloud-firestore>=1.4.0; platform_python_implementation != \"PyPy\" in /Library/Frameworks/Python.framework/Versions/3.7/lib/python3.7/site-packages (from firebase-admin) (1.5.0)\n",
      "Requirement already satisfied, skipping upgrade: httplib2<1dev,>=0.9.2 in /Library/Frameworks/Python.framework/Versions/3.7/lib/python3.7/site-packages (from google-api-python-client>=1.7.8->firebase-admin) (0.14.0)\n",
      "Requirement already satisfied, skipping upgrade: google-auth>=1.4.1 in /Library/Frameworks/Python.framework/Versions/3.7/lib/python3.7/site-packages (from google-api-python-client>=1.7.8->firebase-admin) (1.6.3)\n",
      "Requirement already satisfied, skipping upgrade: google-auth-httplib2>=0.0.3 in /Library/Frameworks/Python.framework/Versions/3.7/lib/python3.7/site-packages (from google-api-python-client>=1.7.8->firebase-admin) (0.0.3)\n",
      "Requirement already satisfied, skipping upgrade: uritemplate<4dev,>=3.0.0 in /Library/Frameworks/Python.framework/Versions/3.7/lib/python3.7/site-packages (from google-api-python-client>=1.7.8->firebase-admin) (3.0.0)\n",
      "Requirement already satisfied, skipping upgrade: requests in /Library/Frameworks/Python.framework/Versions/3.7/lib/python3.7/site-packages (from cachecontrol>=0.12.4->firebase-admin) (2.22.0)\n",
      "Requirement already satisfied, skipping upgrade: msgpack in /Library/Frameworks/Python.framework/Versions/3.7/lib/python3.7/site-packages (from cachecontrol>=0.12.4->firebase-admin) (0.6.2)\n",
      "Requirement already satisfied, skipping upgrade: google-cloud-core<2.0dev,>=1.0.3 in /Library/Frameworks/Python.framework/Versions/3.7/lib/python3.7/site-packages (from google-cloud-storage>=1.18.0->firebase-admin) (1.0.3)\n",
      "Requirement already satisfied, skipping upgrade: google-resumable-media!=0.4.0,<0.5dev,>=0.3.1 in /Library/Frameworks/Python.framework/Versions/3.7/lib/python3.7/site-packages (from google-cloud-storage>=1.18.0->firebase-admin) (0.4.1)\n",
      "Requirement already satisfied, skipping upgrade: pytz in /Library/Frameworks/Python.framework/Versions/3.7/lib/python3.7/site-packages (from google-api-core[grpc]<2.0.0dev,>=1.14.0; platform_python_implementation != \"PyPy\"->firebase-admin) (2019.3)\n",
      "Requirement already satisfied, skipping upgrade: googleapis-common-protos<2.0dev,>=1.6.0 in /Library/Frameworks/Python.framework/Versions/3.7/lib/python3.7/site-packages (from google-api-core[grpc]<2.0.0dev,>=1.14.0; platform_python_implementation != \"PyPy\"->firebase-admin) (1.6.0)\n",
      "Requirement already satisfied, skipping upgrade: setuptools>=34.0.0 in /Library/Frameworks/Python.framework/Versions/3.7/lib/python3.7/site-packages (from google-api-core[grpc]<2.0.0dev,>=1.14.0; platform_python_implementation != \"PyPy\"->firebase-admin) (39.0.1)\n",
      "Requirement already satisfied, skipping upgrade: protobuf>=3.4.0 in /Library/Frameworks/Python.framework/Versions/3.7/lib/python3.7/site-packages (from google-api-core[grpc]<2.0.0dev,>=1.14.0; platform_python_implementation != \"PyPy\"->firebase-admin) (3.10.0)\n",
      "Requirement already satisfied, skipping upgrade: grpcio<2.0dev,>=1.8.2; extra == \"grpc\" in /Library/Frameworks/Python.framework/Versions/3.7/lib/python3.7/site-packages (from google-api-core[grpc]<2.0.0dev,>=1.14.0; platform_python_implementation != \"PyPy\"->firebase-admin) (1.24.3)\n",
      "Requirement already satisfied, skipping upgrade: pyasn1-modules>=0.2.1 in /Library/Frameworks/Python.framework/Versions/3.7/lib/python3.7/site-packages (from google-auth>=1.4.1->google-api-python-client>=1.7.8->firebase-admin) (0.2.7)\n",
      "Requirement already satisfied, skipping upgrade: rsa>=3.1.4 in /Library/Frameworks/Python.framework/Versions/3.7/lib/python3.7/site-packages (from google-auth>=1.4.1->google-api-python-client>=1.7.8->firebase-admin) (4.0)\n",
      "Requirement already satisfied, skipping upgrade: cachetools>=2.0.0 in /Library/Frameworks/Python.framework/Versions/3.7/lib/python3.7/site-packages (from google-auth>=1.4.1->google-api-python-client>=1.7.8->firebase-admin) (3.1.1)\n",
      "Requirement already satisfied, skipping upgrade: chardet<3.1.0,>=3.0.2 in /Library/Frameworks/Python.framework/Versions/3.7/lib/python3.7/site-packages (from requests->cachecontrol>=0.12.4->firebase-admin) (3.0.4)\n",
      "Requirement already satisfied, skipping upgrade: certifi>=2017.4.17 in /Library/Frameworks/Python.framework/Versions/3.7/lib/python3.7/site-packages (from requests->cachecontrol>=0.12.4->firebase-admin) (2018.11.29)\n",
      "Requirement already satisfied, skipping upgrade: urllib3!=1.25.0,!=1.25.1,<1.26,>=1.21.1 in /Library/Frameworks/Python.framework/Versions/3.7/lib/python3.7/site-packages (from requests->cachecontrol>=0.12.4->firebase-admin) (1.25.6)\n",
      "Requirement already satisfied, skipping upgrade: idna<2.9,>=2.5 in /Library/Frameworks/Python.framework/Versions/3.7/lib/python3.7/site-packages (from requests->cachecontrol>=0.12.4->firebase-admin) (2.8)\n",
      "Requirement already satisfied, skipping upgrade: pyasn1<0.5.0,>=0.4.6 in /Library/Frameworks/Python.framework/Versions/3.7/lib/python3.7/site-packages (from pyasn1-modules>=0.2.1->google-auth>=1.4.1->google-api-python-client>=1.7.8->firebase-admin) (0.4.7)\n",
      "Requirement already up-to-date: google-cloud-language in /Library/Frameworks/Python.framework/Versions/3.7/lib/python3.7/site-packages (1.3.0)\n",
      "Requirement already satisfied, skipping upgrade: google-api-core[grpc]<2.0.0dev,>=1.14.0 in /Library/Frameworks/Python.framework/Versions/3.7/lib/python3.7/site-packages (from google-cloud-language) (1.14.3)\n",
      "Requirement already satisfied, skipping upgrade: setuptools>=34.0.0 in /Library/Frameworks/Python.framework/Versions/3.7/lib/python3.7/site-packages (from google-api-core[grpc]<2.0.0dev,>=1.14.0->google-cloud-language) (39.0.1)\n",
      "Requirement already satisfied, skipping upgrade: pytz in /Library/Frameworks/Python.framework/Versions/3.7/lib/python3.7/site-packages (from google-api-core[grpc]<2.0.0dev,>=1.14.0->google-cloud-language) (2019.3)\n",
      "Requirement already satisfied, skipping upgrade: requests<3.0.0dev,>=2.18.0 in /Library/Frameworks/Python.framework/Versions/3.7/lib/python3.7/site-packages (from google-api-core[grpc]<2.0.0dev,>=1.14.0->google-cloud-language) (2.22.0)\n",
      "Requirement already satisfied, skipping upgrade: six>=1.10.0 in /Users/ntung/Library/Python/3.7/lib/python/site-packages (from google-api-core[grpc]<2.0.0dev,>=1.14.0->google-cloud-language) (1.12.0)\n",
      "Requirement already satisfied, skipping upgrade: google-auth<2.0dev,>=0.4.0 in /Library/Frameworks/Python.framework/Versions/3.7/lib/python3.7/site-packages (from google-api-core[grpc]<2.0.0dev,>=1.14.0->google-cloud-language) (1.6.3)\n",
      "Requirement already satisfied, skipping upgrade: protobuf>=3.4.0 in /Library/Frameworks/Python.framework/Versions/3.7/lib/python3.7/site-packages (from google-api-core[grpc]<2.0.0dev,>=1.14.0->google-cloud-language) (3.10.0)\n",
      "Requirement already satisfied, skipping upgrade: googleapis-common-protos<2.0dev,>=1.6.0 in /Library/Frameworks/Python.framework/Versions/3.7/lib/python3.7/site-packages (from google-api-core[grpc]<2.0.0dev,>=1.14.0->google-cloud-language) (1.6.0)\n",
      "Requirement already satisfied, skipping upgrade: grpcio<2.0dev,>=1.8.2; extra == \"grpc\" in /Library/Frameworks/Python.framework/Versions/3.7/lib/python3.7/site-packages (from google-api-core[grpc]<2.0.0dev,>=1.14.0->google-cloud-language) (1.24.3)\n",
      "Requirement already satisfied, skipping upgrade: chardet<3.1.0,>=3.0.2 in /Library/Frameworks/Python.framework/Versions/3.7/lib/python3.7/site-packages (from requests<3.0.0dev,>=2.18.0->google-api-core[grpc]<2.0.0dev,>=1.14.0->google-cloud-language) (3.0.4)\n",
      "Requirement already satisfied, skipping upgrade: urllib3!=1.25.0,!=1.25.1,<1.26,>=1.21.1 in /Library/Frameworks/Python.framework/Versions/3.7/lib/python3.7/site-packages (from requests<3.0.0dev,>=2.18.0->google-api-core[grpc]<2.0.0dev,>=1.14.0->google-cloud-language) (1.25.6)\n",
      "Requirement already satisfied, skipping upgrade: idna<2.9,>=2.5 in /Library/Frameworks/Python.framework/Versions/3.7/lib/python3.7/site-packages (from requests<3.0.0dev,>=2.18.0->google-api-core[grpc]<2.0.0dev,>=1.14.0->google-cloud-language) (2.8)\n",
      "Requirement already satisfied, skipping upgrade: certifi>=2017.4.17 in /Library/Frameworks/Python.framework/Versions/3.7/lib/python3.7/site-packages (from requests<3.0.0dev,>=2.18.0->google-api-core[grpc]<2.0.0dev,>=1.14.0->google-cloud-language) (2018.11.29)\n",
      "Requirement already satisfied, skipping upgrade: cachetools>=2.0.0 in /Library/Frameworks/Python.framework/Versions/3.7/lib/python3.7/site-packages (from google-auth<2.0dev,>=0.4.0->google-api-core[grpc]<2.0.0dev,>=1.14.0->google-cloud-language) (3.1.1)\n",
      "Requirement already satisfied, skipping upgrade: pyasn1-modules>=0.2.1 in /Library/Frameworks/Python.framework/Versions/3.7/lib/python3.7/site-packages (from google-auth<2.0dev,>=0.4.0->google-api-core[grpc]<2.0.0dev,>=1.14.0->google-cloud-language) (0.2.7)\n",
      "Requirement already satisfied, skipping upgrade: rsa>=3.1.4 in /Library/Frameworks/Python.framework/Versions/3.7/lib/python3.7/site-packages (from google-auth<2.0dev,>=0.4.0->google-api-core[grpc]<2.0.0dev,>=1.14.0->google-cloud-language) (4.0)\n",
      "Requirement already satisfied, skipping upgrade: pyasn1<0.5.0,>=0.4.6 in /Library/Frameworks/Python.framework/Versions/3.7/lib/python3.7/site-packages (from pyasn1-modules>=0.2.1->google-auth<2.0dev,>=0.4.0->google-api-core[grpc]<2.0.0dev,>=1.14.0->google-cloud-language) (0.4.7)\n",
      "Requirement already up-to-date: google-cloud-pubsub in /Library/Frameworks/Python.framework/Versions/3.7/lib/python3.7/site-packages (1.0.2)\n",
      "Requirement already satisfied, skipping upgrade: grpc-google-iam-v1<0.13dev,>=0.12.3 in /Library/Frameworks/Python.framework/Versions/3.7/lib/python3.7/site-packages (from google-cloud-pubsub) (0.12.3)\n",
      "Requirement already satisfied, skipping upgrade: google-api-core[grpc]<2.0.0dev,>=1.14.0 in /Library/Frameworks/Python.framework/Versions/3.7/lib/python3.7/site-packages (from google-cloud-pubsub) (1.14.3)\n",
      "Requirement already satisfied, skipping upgrade: grpcio<2.0.0dev,>=1.0.0 in /Library/Frameworks/Python.framework/Versions/3.7/lib/python3.7/site-packages (from grpc-google-iam-v1<0.13dev,>=0.12.3->google-cloud-pubsub) (1.24.3)\n",
      "Requirement already satisfied, skipping upgrade: googleapis-common-protos[grpc]<2.0.0dev,>=1.5.2 in /Library/Frameworks/Python.framework/Versions/3.7/lib/python3.7/site-packages (from grpc-google-iam-v1<0.13dev,>=0.12.3->google-cloud-pubsub) (1.6.0)\n",
      "Requirement already satisfied, skipping upgrade: setuptools>=34.0.0 in /Library/Frameworks/Python.framework/Versions/3.7/lib/python3.7/site-packages (from google-api-core[grpc]<2.0.0dev,>=1.14.0->google-cloud-pubsub) (39.0.1)\n",
      "Requirement already satisfied, skipping upgrade: google-auth<2.0dev,>=0.4.0 in /Library/Frameworks/Python.framework/Versions/3.7/lib/python3.7/site-packages (from google-api-core[grpc]<2.0.0dev,>=1.14.0->google-cloud-pubsub) (1.6.3)\n",
      "Requirement already satisfied, skipping upgrade: six>=1.10.0 in /Users/ntung/Library/Python/3.7/lib/python/site-packages (from google-api-core[grpc]<2.0.0dev,>=1.14.0->google-cloud-pubsub) (1.12.0)\n",
      "Requirement already satisfied, skipping upgrade: pytz in /Library/Frameworks/Python.framework/Versions/3.7/lib/python3.7/site-packages (from google-api-core[grpc]<2.0.0dev,>=1.14.0->google-cloud-pubsub) (2019.3)\n",
      "Requirement already satisfied, skipping upgrade: requests<3.0.0dev,>=2.18.0 in /Library/Frameworks/Python.framework/Versions/3.7/lib/python3.7/site-packages (from google-api-core[grpc]<2.0.0dev,>=1.14.0->google-cloud-pubsub) (2.22.0)\n",
      "Requirement already satisfied, skipping upgrade: protobuf>=3.4.0 in /Library/Frameworks/Python.framework/Versions/3.7/lib/python3.7/site-packages (from google-api-core[grpc]<2.0.0dev,>=1.14.0->google-cloud-pubsub) (3.10.0)\n",
      "Requirement already satisfied, skipping upgrade: rsa>=3.1.4 in /Library/Frameworks/Python.framework/Versions/3.7/lib/python3.7/site-packages (from google-auth<2.0dev,>=0.4.0->google-api-core[grpc]<2.0.0dev,>=1.14.0->google-cloud-pubsub) (4.0)\n",
      "Requirement already satisfied, skipping upgrade: pyasn1-modules>=0.2.1 in /Library/Frameworks/Python.framework/Versions/3.7/lib/python3.7/site-packages (from google-auth<2.0dev,>=0.4.0->google-api-core[grpc]<2.0.0dev,>=1.14.0->google-cloud-pubsub) (0.2.7)\n",
      "Requirement already satisfied, skipping upgrade: cachetools>=2.0.0 in /Library/Frameworks/Python.framework/Versions/3.7/lib/python3.7/site-packages (from google-auth<2.0dev,>=0.4.0->google-api-core[grpc]<2.0.0dev,>=1.14.0->google-cloud-pubsub) (3.1.1)\n",
      "Requirement already satisfied, skipping upgrade: certifi>=2017.4.17 in /Library/Frameworks/Python.framework/Versions/3.7/lib/python3.7/site-packages (from requests<3.0.0dev,>=2.18.0->google-api-core[grpc]<2.0.0dev,>=1.14.0->google-cloud-pubsub) (2018.11.29)\n",
      "Requirement already satisfied, skipping upgrade: chardet<3.1.0,>=3.0.2 in /Library/Frameworks/Python.framework/Versions/3.7/lib/python3.7/site-packages (from requests<3.0.0dev,>=2.18.0->google-api-core[grpc]<2.0.0dev,>=1.14.0->google-cloud-pubsub) (3.0.4)\n",
      "Requirement already satisfied, skipping upgrade: idna<2.9,>=2.5 in /Library/Frameworks/Python.framework/Versions/3.7/lib/python3.7/site-packages (from requests<3.0.0dev,>=2.18.0->google-api-core[grpc]<2.0.0dev,>=1.14.0->google-cloud-pubsub) (2.8)\n",
      "Requirement already satisfied, skipping upgrade: urllib3!=1.25.0,!=1.25.1,<1.26,>=1.21.1 in /Library/Frameworks/Python.framework/Versions/3.7/lib/python3.7/site-packages (from requests<3.0.0dev,>=2.18.0->google-api-core[grpc]<2.0.0dev,>=1.14.0->google-cloud-pubsub) (1.25.6)\n",
      "Requirement already satisfied, skipping upgrade: pyasn1>=0.1.3 in /Library/Frameworks/Python.framework/Versions/3.7/lib/python3.7/site-packages (from rsa>=3.1.4->google-auth<2.0dev,>=0.4.0->google-api-core[grpc]<2.0.0dev,>=1.14.0->google-cloud-pubsub) (0.4.7)\n",
      "Requirement already satisfied: pandas in /Library/Frameworks/Python.framework/Versions/3.7/lib/python3.7/site-packages (0.25.2)\n",
      "Requirement already satisfied: pytz>=2017.2 in /Library/Frameworks/Python.framework/Versions/3.7/lib/python3.7/site-packages (from pandas) (2019.3)\n",
      "Requirement already satisfied: numpy>=1.13.3 in /Library/Frameworks/Python.framework/Versions/3.7/lib/python3.7/site-packages (from pandas) (1.17.2)\n",
      "Requirement already satisfied: python-dateutil>=2.6.1 in /Library/Frameworks/Python.framework/Versions/3.7/lib/python3.7/site-packages (from pandas) (2.8.0)\n",
      "Requirement already satisfied: six>=1.5 in /Users/ntung/Library/Python/3.7/lib/python/site-packages (from python-dateutil>=2.6.1->pandas) (1.12.0)\n",
      "Requirement already satisfied: matplotlib in /Library/Frameworks/Python.framework/Versions/3.7/lib/python3.7/site-packages (3.1.1)\n",
      "Requirement already satisfied: kiwisolver>=1.0.1 in /Library/Frameworks/Python.framework/Versions/3.7/lib/python3.7/site-packages (from matplotlib) (1.1.0)\n",
      "Requirement already satisfied: python-dateutil>=2.1 in /Library/Frameworks/Python.framework/Versions/3.7/lib/python3.7/site-packages (from matplotlib) (2.8.0)\n",
      "Requirement already satisfied: numpy>=1.11 in /Library/Frameworks/Python.framework/Versions/3.7/lib/python3.7/site-packages (from matplotlib) (1.17.2)\n",
      "Requirement already satisfied: cycler>=0.10 in /Library/Frameworks/Python.framework/Versions/3.7/lib/python3.7/site-packages (from matplotlib) (0.10.0)\n",
      "Requirement already satisfied: pyparsing!=2.0.4,!=2.1.2,!=2.1.6,>=2.0.1 in /Library/Frameworks/Python.framework/Versions/3.7/lib/python3.7/site-packages (from matplotlib) (2.4.2)\n",
      "Requirement already satisfied: setuptools in /Library/Frameworks/Python.framework/Versions/3.7/lib/python3.7/site-packages (from kiwisolver>=1.0.1->matplotlib) (39.0.1)\n",
      "Requirement already satisfied: six>=1.5 in /Users/ntung/Library/Python/3.7/lib/python/site-packages (from python-dateutil>=2.1->matplotlib) (1.12.0)\n",
      "Collecting statsmodels\n",
      "  Downloading https://files.pythonhosted.org/packages/b5/b8/50f9b86bbd87b1de961f439c2b93dfc41dd0cb9d65f6b7d824b287b50b21/statsmodels-0.10.1-cp37-cp37m-macosx_10_6_intel.macosx_10_9_intel.macosx_10_9_x86_64.macosx_10_10_intel.macosx_10_10_x86_64.whl (10.5MB)\n",
      "Collecting patsy>=0.4.0\n",
      "  Downloading https://files.pythonhosted.org/packages/ea/0c/5f61f1a3d4385d6bf83b83ea495068857ff8dfb89e74824c6e9eb63286d8/patsy-0.5.1-py2.py3-none-any.whl (231kB)\n",
      "Requirement already satisfied: pandas>=0.19 in /Library/Frameworks/Python.framework/Versions/3.7/lib/python3.7/site-packages (from statsmodels) (0.25.2)\n",
      "Requirement already satisfied: numpy>=1.11 in /Library/Frameworks/Python.framework/Versions/3.7/lib/python3.7/site-packages (from statsmodels) (1.17.2)\n",
      "Collecting scipy>=0.18\n",
      "  Downloading https://files.pythonhosted.org/packages/d5/06/1a696649f4b2e706c509cb9333fdc6331fbe71251cede945f9e1fa13ea34/scipy-1.3.1-cp37-cp37m-macosx_10_6_intel.macosx_10_9_intel.macosx_10_9_x86_64.macosx_10_10_intel.macosx_10_10_x86_64.whl (27.7MB)\n",
      "Requirement already satisfied: six in /Users/ntung/Library/Python/3.7/lib/python/site-packages (from patsy>=0.4.0->statsmodels) (1.12.0)\n",
      "Requirement already satisfied: pytz>=2017.2 in /Library/Frameworks/Python.framework/Versions/3.7/lib/python3.7/site-packages (from pandas>=0.19->statsmodels) (2019.3)\n",
      "Requirement already satisfied: python-dateutil>=2.6.1 in /Library/Frameworks/Python.framework/Versions/3.7/lib/python3.7/site-packages (from pandas>=0.19->statsmodels) (2.8.0)\n",
      "Installing collected packages: patsy, scipy, statsmodels\n",
      "Successfully installed patsy-0.5.1 scipy-1.3.1 statsmodels-0.10.1\n"
     ]
    ***REMOVED***
   ],
   "source": [
    "%%bash\n",
    "pip install --upgrade pip\n",
    "pip3 install --upgrade firebase-admin\n",
    "pip3 install --upgrade google-cloud-language\n",
    "pip3 install --upgrade google-cloud-pubsub\n",
    "pip3 install pandas\n",
    "pip3 install matplotlib\n",
    "pip3 install statsmodels"
   ]
  ***REMOVED***,
  ***REMOVED***
   "cell_type": "code",
   "execution_count": 21,
   "metadata": ***REMOVED******REMOVED***,
   "outputs": [
    ***REMOVED***
     "name": "stdout",
     "output_type": "stream",
     "text": [
      "[-0.13429603002131632, -0.13429603002131632, -0.13429603002131632, -0.13429603002131632, -0.13429603002131632, -0.13429603002131632, -0.13429603002131632, -0.13429603002131632, -0.13429603002131632, -0.13429603002131632, -0.13429603002131632, -0.13429603002131632, -0.13429603002131632, -0.13429603002131632, -0.13429603002131632, -0.13429603002131632, -0.13429603002131632, -0.13429603002131632, -0.13429603002131632, -0.13429603002131632, -0.13429603002131632, -0.13429603002131632, -0.13429603002131632, -0.13429603002131632, -0.13429603002131632, -0.13429603002131632, -0.13429603002131632, -0.13429603002131632, -0.13429603002131632, -0.13429603002131632, -0.13429603002131632, -0.13429603002131632, -0.13429603002131632, -0.13429603002131632, -0.13429603002131632, -0.13429603002131632, -0.13429603002131632, -0.13429603002131632, -0.13429603002131632, -0.13429603002131632, -0.13429603002131632, -0.13429603002131632, -0.13429603002131632, -0.13429603002131632, -0.13429603002131632, -0.13429603002131632, -0.13429603002131632, -0.13429603002131632, -0.13429603002131632, -0.13429603002131632, -0.13429603002131632]\n",
      "range(250, 301)\n",
      "[0.015510204860142299, 0.015510204860142299, 0.015510204860142299, 0.015510204860142299, 0.015510204860142299, 0.015510204860142299, 0.015510204860142299, 0.015510204860142299, 0.015510204860142299, 0.015510204860142299, 0.015510204860142299, 0.015510204860142299, 0.015510204860142299, 0.015510204860142299, 0.015510204860142299, 0.015510204860142299, 0.015510204860142299, 0.015510204860142299, 0.015510204860142299, 0.015510204860142299, 0.015510204860142299, 0.015510204860142299, 0.015510204860142299, 0.015510204860142299, 0.015510204860142299, 0.015510204860142299, 0.015510204860142299, 0.015510204860142299, 0.015510204860142299, 0.015510204860142299, 0.015510204860142299, 0.015510204860142299, 0.015510204860142299, 0.015510204860142299, 0.015510204860142299, 0.015510204860142299, 0.015510204860142299, 0.015510204860142299, 0.015510204860142299, 0.015510204860142299, 0.015510204860142299, 0.015510204860142299, 0.015510204860142299, 0.015510204860142299, 0.015510204860142299, 0.015510204860142299, 0.015510204860142299, 0.015510204860142299, 0.015510204860142299, 0.015510204860142299, 0.015510204860142299]\n",
      "range(250, 301)\n",
      "[-0.023076927432647117, -0.023076927432647117, -0.023076927432647117, -0.023076927432647117, -0.023076927432647117, -0.023076927432647117, -0.023076927432647117, -0.023076927432647117, -0.023076927432647117, -0.023076927432647117, -0.023076927432647117, -0.023076927432647117, -0.023076927432647117, -0.023076927432647117, -0.023076927432647117, -0.023076927432647117, -0.023076927432647117, -0.023076927432647117, -0.023076927432647117, -0.023076927432647117, -0.023076927432647117, -0.023076927432647117, -0.023076927432647117, -0.023076927432647117, -0.023076927432647117, -0.023076927432647117, -0.023076927432647117, -0.023076927432647117, -0.023076927432647117, -0.023076927432647117, -0.023076927432647117, -0.023076927432647117, -0.023076927432647117, -0.023076927432647117, -0.023076927432647117, -0.023076927432647117, -0.023076927432647117, -0.023076927432647117, -0.023076927432647117, -0.023076927432647117, -0.023076927432647117, -0.023076927432647117, -0.023076927432647117, -0.023076927432647117, -0.023076927432647117, -0.023076927432647117, -0.023076927432647117, -0.023076927432647117, -0.023076927432647117, -0.023076927432647117, -0.023076927432647117]\n",
      "range(250, 301)\n",
      "[0.08709677621241539, 0.08709677621241539, 0.08709677621241539, 0.08709677621241539, 0.08709677621241539, 0.08709677621241539, 0.08709677621241539, 0.08709677621241539, 0.08709677621241539, 0.08709677621241539, 0.08709677621241539, 0.08709677621241539, 0.08709677621241539, 0.08709677621241539, 0.08709677621241539, 0.08709677621241539, 0.08709677621241539, 0.08709677621241539, 0.08709677621241539, 0.08709677621241539, 0.08709677621241539, 0.08709677621241539, 0.08709677621241539, 0.08709677621241539, 0.08709677621241539, 0.08709677621241539, 0.08709677621241539, 0.08709677621241539, 0.08709677621241539, 0.08709677621241539, 0.08709677621241539, 0.08709677621241539, 0.08709677621241539, 0.08709677621241539, 0.08709677621241539, 0.08709677621241539, 0.08709677621241539, 0.08709677621241539, 0.08709677621241539, 0.08709677621241539, 0.08709677621241539, 0.08709677621241539, 0.08709677621241539, 0.08709677621241539, 0.08709677621241539, 0.08709677621241539, 0.08709677621241539, 0.08709677621241539, 0.08709677621241539, 0.08709677621241539, 0.08709677621241539]\n",
      "range(250, 301)\n"
     ]
    ***REMOVED***,
    ***REMOVED***
     "data": ***REMOVED***
      "image/png": "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\n",
      "text/plain": [
       "<Figure size 432x288 with 1 Axes>"
      ]
     ***REMOVED***,
     "metadata": ***REMOVED***
      "needs_background": "light"
     ***REMOVED***,
     "output_type": "display_data"
    ***REMOVED***
   ],
   "source": [
    "import multiple_regression\n",
    "\n",
    "\n",
    "JETBLUE_LABELS = ['jetblue_tripadvisor', 'jetblue_twitter']\n",
    "AMERICAN_LABELS = ['american airlines_twitter'] \n",
    "DELTA_LABELS = ['delta airlines_twitter']\n",
    "UNITED_LABELS = ['united airlines_twitter']\n",
    "\n",
    "START_DAY = datetime.now() - timedelta(days=50)\n",
    "END_DAY = datetime.now()\n",
    "\n",
    "def graph_airlines(labels, start_day, end_day):\n",
    "    gdb = gdatabase.google_db()\n",
    "    colors = ['b', 'r', 'g', 'c', 'm', 'y', 'k', 'w']\n",
    "    days = range(start_day.timetuple().tm_yday, end_day.timetuple().tm_yday + 1)\n",
    "    i = 0\n",
    "    for label in labels:\n",
    "        sentiments = extract_sources_sentiment_per_day(gdb, label, start_day, end_day)\n",
    "        print(sentiments)\n",
    "        print(days)\n",
    "        plt.plot(days, sentiments, colors[i])\n",
    "        i += 1\n",
    "    plt.show()\n",
    "graph_airlines([AMERICAN_LABELS, UNITED_LABELS, DELTA_LABELS, JETBLUE_LABELS], START_DAY, END_DAY)"
   ]
  ***REMOVED***,
  ***REMOVED***
   "cell_type": "code",
   "execution_count": null,
   "metadata": ***REMOVED******REMOVED***,
   "outputs": [],
   "source": []
  ***REMOVED***
 ],
 "metadata": ***REMOVED***
  "kernelspec": ***REMOVED***
   "display_name": "Python 3",
   "language": "python",
   "name": "python3"
  ***REMOVED***,
  "language_info": ***REMOVED***
   "codemirror_mode": ***REMOVED***
    "name": "ipython",
    "version": 3
   ***REMOVED***,
   "file_extension": ".py",
   "mimetype": "text/x-python",
   "name": "python",
   "nbconvert_exporter": "python",
   "pygments_lexer": "ipython3",
   "version": "3.7.1"
  ***REMOVED***
 ***REMOVED***,
 "nbformat": 4,
 "nbformat_minor": 2
***REMOVED***
